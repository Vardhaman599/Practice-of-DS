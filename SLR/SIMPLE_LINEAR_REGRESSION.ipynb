#importing the libraries
import numpy as np #here np is shortcut name for numpy
import matplotlib.pyplot as plt #here plt is shortcut name for matplotlib.pyplot
import pandas as pd #here pad is shortcutname for pandas
#importing the dataset
data=pd.read_csv(r"/content/Salary_Data.csv")
X=data.iloc[:,:-1].values
#iloc returns a pandas series when one row is selected
y= data.iloc[:,1].values
#:colon will read from first to last column dataset
from sklearn.model_selection import train_test_split
#import the train_test_split class from sklearn.model_selection
X_train,X_test,y_train,y_test = train_test_split(X,y,test_size =0.2,random_state = 0)
#here we are using 80% of data to train and 20% of data to test
#importing linear regression class from sklearn
from sklearn.linear_model import LinearRegression
regressor=LinearRegression()
regressor.fit(X_train,y_train)
#predicting the test result
y_pred = regressor.predict(X_test)
#VISUALISING THE TRAINING SET RESULTS
plt.scatter(X_train, y_train, color = 'red')
plt.plot(X_train, regressor.predict(X_train), color = 'blue')
plt.title('Salary vs Experience (Training set)')
plt.xlabel('Years of Experience')
plt.ylabel('Salary')
plt.show()
#VISUALISING THE TEST SET RESULTS
plt.scatter(X_test, y_test, color = 'red')
plt.plot(X_train, regressor.predict(X_train), color = 'blue')
plt.title('Salary vs Experience (Test set)')
plt.xlabel('Years of Experience')
plt.ylabel('Salary')
plt.show()
